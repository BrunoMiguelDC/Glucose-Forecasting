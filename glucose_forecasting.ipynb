{
 "cells": [
  {
   "cell_type": "code",
   "execution_count": 9,
   "metadata": {
    "ExecuteTime": {
     "end_time": "2023-05-22T17:20:16.267083400Z",
     "start_time": "2023-05-22T17:19:53.590896200Z"
    },
    "collapsed": true
   },
   "outputs": [
    {
     "name": "stdout",
     "output_type": "stream",
     "text": [
      "Requirement already satisfied: river in c:\\users\\bruno\\miniconda3\\envs\\ap\\lib\\site-packages (0.17.0)\n",
      "Requirement already satisfied: pandas>=1.3 in c:\\users\\bruno\\miniconda3\\envs\\ap\\lib\\site-packages (from river) (2.0.2)\n",
      "Requirement already satisfied: numpy>=1.24.3 in c:\\users\\bruno\\miniconda3\\envs\\ap\\lib\\site-packages (from river) (1.24.3)\n",
      "Requirement already satisfied: scipy>=1.5 in c:\\users\\bruno\\miniconda3\\envs\\ap\\lib\\site-packages (from river) (1.10.0)\n",
      "Requirement already satisfied: python-dateutil>=2.8.2 in c:\\users\\bruno\\miniconda3\\envs\\ap\\lib\\site-packages (from pandas>=1.3->river) (2.8.2)\n",
      "Requirement already satisfied: pytz>=2020.1 in c:\\users\\bruno\\miniconda3\\envs\\ap\\lib\\site-packages (from pandas>=1.3->river) (2023.3)\n",
      "Requirement already satisfied: tzdata>=2022.1 in c:\\users\\bruno\\miniconda3\\envs\\ap\\lib\\site-packages (from pandas>=1.3->river) (2023.3)\n",
      "Requirement already satisfied: six>=1.5 in c:\\users\\bruno\\miniconda3\\envs\\ap\\lib\\site-packages (from python-dateutil>=2.8.2->pandas>=1.3->river) (1.16.0)\n",
      "Collecting matplotlib\n",
      "  Using cached matplotlib-3.7.1-cp310-cp310-win_amd64.whl (7.6 MB)\n",
      "Collecting pyparsing>=2.3.1\n",
      "  Using cached pyparsing-3.0.9-py3-none-any.whl (98 kB)\n",
      "Collecting contourpy>=1.0.1\n",
      "  Using cached contourpy-1.0.7-cp310-cp310-win_amd64.whl (162 kB)\n",
      "Collecting pillow>=6.2.0\n",
      "  Downloading Pillow-9.5.0-cp310-cp310-win_amd64.whl (2.5 MB)\n",
      "     ---------------------------------------- 2.5/2.5 MB 1.3 MB/s eta 0:00:00\n",
      "Requirement already satisfied: python-dateutil>=2.7 in c:\\users\\bruno\\miniconda3\\envs\\ap\\lib\\site-packages (from matplotlib) (2.8.2)\n",
      "Requirement already satisfied: packaging>=20.0 in c:\\users\\bruno\\miniconda3\\envs\\ap\\lib\\site-packages (from matplotlib) (22.0)\n",
      "Collecting kiwisolver>=1.0.1\n",
      "  Using cached kiwisolver-1.4.4-cp310-cp310-win_amd64.whl (55 kB)\n",
      "Requirement already satisfied: numpy>=1.20 in c:\\users\\bruno\\miniconda3\\envs\\ap\\lib\\site-packages (from matplotlib) (1.24.3)\n",
      "Collecting fonttools>=4.22.0\n",
      "  Downloading fonttools-4.39.4-py3-none-any.whl (1.0 MB)\n",
      "     ---------------------------------------- 1.0/1.0 MB 1.3 MB/s eta 0:00:00\n",
      "Collecting cycler>=0.10\n",
      "  Using cached cycler-0.11.0-py3-none-any.whl (6.4 kB)\n",
      "Requirement already satisfied: six>=1.5 in c:\\users\\bruno\\miniconda3\\envs\\ap\\lib\\site-packages (from python-dateutil>=2.7->matplotlib) (1.16.0)\n",
      "Installing collected packages: pyparsing, pillow, kiwisolver, fonttools, cycler, contourpy, matplotlib\n",
      "Successfully installed contourpy-1.0.7 cycler-0.11.0 fonttools-4.39.4 kiwisolver-1.4.4 matplotlib-3.7.1 pillow-9.5.0 pyparsing-3.0.9\n"
     ]
    }
   ],
   "source": [
    "#@title Install River\n",
    "!pip install river\n",
    "!pip install matplotlib"
   ]
  },
  {
   "cell_type": "code",
   "execution_count": 36,
   "metadata": {
    "ExecuteTime": {
     "end_time": "2023-05-22T18:36:37.570248Z",
     "start_time": "2023-05-22T18:36:37.193059600Z"
    },
    "collapsed": false
   },
   "outputs": [
    {
     "name": "stderr",
     "output_type": "stream",
     "text": [
      "C:\\Users\\bruno\\AppData\\Local\\Temp\\ipykernel_7320\\2922609391.py:5: UserWarning: Could not infer format, so each element will be parsed individually, falling back to `dateutil`. To ensure parsing is consistent and as-expected, please specify a format.\n",
      "  data = pd.read_csv('./Carelink 670G.csv', dtype={'sensorglucose':float}, parse_dates=[1]).drop(['subjectid'], axis=1).dropna()\n"
     ]
    },
    {
     "data": {
      "text/html": [
       "<div>\n",
       "<style scoped>\n",
       "    .dataframe tbody tr th:only-of-type {\n",
       "        vertical-align: middle;\n",
       "    }\n",
       "\n",
       "    .dataframe tbody tr th {\n",
       "        vertical-align: top;\n",
       "    }\n",
       "\n",
       "    .dataframe thead th {\n",
       "        text-align: right;\n",
       "    }\n",
       "</style>\n",
       "<table border=\"1\" class=\"dataframe\">\n",
       "  <thead>\n",
       "    <tr style=\"text-align: right;\">\n",
       "      <th></th>\n",
       "      <th>timestamp</th>\n",
       "      <th>sensorglucose</th>\n",
       "      <th>target</th>\n",
       "    </tr>\n",
       "  </thead>\n",
       "  <tbody>\n",
       "    <tr>\n",
       "      <th>0</th>\n",
       "      <td>2018-10-17 00:03:00</td>\n",
       "      <td>129.0</td>\n",
       "      <td>123.0</td>\n",
       "    </tr>\n",
       "    <tr>\n",
       "      <th>1</th>\n",
       "      <td>2018-10-17 00:08:00</td>\n",
       "      <td>129.0</td>\n",
       "      <td>122.0</td>\n",
       "    </tr>\n",
       "    <tr>\n",
       "      <th>2</th>\n",
       "      <td>2018-10-17 00:13:00</td>\n",
       "      <td>127.0</td>\n",
       "      <td>120.0</td>\n",
       "    </tr>\n",
       "    <tr>\n",
       "      <th>3</th>\n",
       "      <td>2018-10-17 00:18:00</td>\n",
       "      <td>126.0</td>\n",
       "      <td>119.0</td>\n",
       "    </tr>\n",
       "    <tr>\n",
       "      <th>4</th>\n",
       "      <td>2018-10-17 00:23:00</td>\n",
       "      <td>125.0</td>\n",
       "      <td>117.0</td>\n",
       "    </tr>\n",
       "    <tr>\n",
       "      <th>5</th>\n",
       "      <td>2018-10-17 00:28:00</td>\n",
       "      <td>124.0</td>\n",
       "      <td>116.0</td>\n",
       "    </tr>\n",
       "    <tr>\n",
       "      <th>6</th>\n",
       "      <td>2018-10-17 00:33:00</td>\n",
       "      <td>123.0</td>\n",
       "      <td>115.0</td>\n",
       "    </tr>\n",
       "    <tr>\n",
       "      <th>7</th>\n",
       "      <td>2018-10-17 00:38:00</td>\n",
       "      <td>122.0</td>\n",
       "      <td>113.0</td>\n",
       "    </tr>\n",
       "    <tr>\n",
       "      <th>8</th>\n",
       "      <td>2018-10-17 00:43:00</td>\n",
       "      <td>120.0</td>\n",
       "      <td>112.0</td>\n",
       "    </tr>\n",
       "    <tr>\n",
       "      <th>9</th>\n",
       "      <td>2018-10-17 00:48:00</td>\n",
       "      <td>119.0</td>\n",
       "      <td>111.0</td>\n",
       "    </tr>\n",
       "  </tbody>\n",
       "</table>\n",
       "</div>"
      ],
      "text/plain": [
       "            timestamp  sensorglucose  target\n",
       "0 2018-10-17 00:03:00          129.0   123.0\n",
       "1 2018-10-17 00:08:00          129.0   122.0\n",
       "2 2018-10-17 00:13:00          127.0   120.0\n",
       "3 2018-10-17 00:18:00          126.0   119.0\n",
       "4 2018-10-17 00:23:00          125.0   117.0\n",
       "5 2018-10-17 00:28:00          124.0   116.0\n",
       "6 2018-10-17 00:33:00          123.0   115.0\n",
       "7 2018-10-17 00:38:00          122.0   113.0\n",
       "8 2018-10-17 00:43:00          120.0   112.0\n",
       "9 2018-10-17 00:48:00          119.0   111.0"
      ]
     },
     "execution_count": 36,
     "metadata": {},
     "output_type": "execute_result"
    }
   ],
   "source": [
    "import numpy as np\n",
    "import pandas as pd\n",
    "from datetime import datetime as dt\n",
    "\n",
    "data = pd.read_csv('./Carelink 670G.csv', dtype={'sensorglucose':float}, parse_dates=[1]).drop(['subjectid'], axis=1).dropna()\n",
    "\n",
    "data['target'] = data['sensorglucose'].shift(-6)\n",
    "data[:10]"
   ]
  },
  {
   "cell_type": "code",
   "execution_count": 39,
   "metadata": {
    "collapsed": false
   },
   "outputs": [],
   "source": [
    "from river import stream\n",
    "\n"
   ]
  },
  {
   "cell_type": "code",
   "execution_count": 40,
   "metadata": {
    "ExecuteTime": {
     "end_time": "2023-05-22T18:02:59.631282600Z",
     "start_time": "2023-05-22T18:02:59.515482500Z"
    },
    "collapsed": false
   },
   "outputs": [
    {
     "name": "stdout",
     "output_type": "stream",
     "text": [
      "Change detected at index 63, input value: timestamp        2018-10-17 05:18:00\n",
      "sensorglucose                   94.0\n",
      "target                          95.0\n",
      "Name: 63, dtype: object\n",
      "Change detected at index 159, input value: timestamp        2018-10-17 13:18:00\n",
      "sensorglucose                  159.0\n",
      "target                         133.0\n",
      "Name: 159, dtype: object\n",
      "Change detected at index 191, input value: timestamp        2018-10-17 15:58:00\n",
      "sensorglucose                   72.0\n",
      "target                          86.0\n",
      "Name: 191, dtype: object\n",
      "Change detected at index 255, input value: timestamp        2018-10-17 21:18:00\n",
      "sensorglucose                   72.0\n",
      "target                          62.0\n",
      "Name: 255, dtype: object\n",
      "Change detected at index 351, input value: timestamp        2018-10-18 05:18:00\n",
      "sensorglucose                  123.0\n",
      "target                         122.0\n",
      "Name: 351, dtype: object\n",
      "Change detected at index 439, input value: timestamp        2018-10-18 13:30:00\n",
      "sensorglucose                  120.0\n",
      "target                          86.0\n",
      "Name: 439, dtype: object\n",
      "Change detected at index 504, input value: timestamp        2018-10-18 18:55:00\n",
      "sensorglucose                   83.0\n",
      "target                          77.0\n",
      "Name: 504, dtype: object\n",
      "Change detected at index 568, input value: timestamp        2018-10-19 00:16:00\n",
      "sensorglucose                  135.0\n",
      "target                         140.0\n",
      "Name: 568, dtype: object\n",
      "Change detected at index 632, input value: timestamp        2018-10-19 05:36:00\n",
      "sensorglucose                   95.0\n",
      "target                          98.0\n",
      "Name: 632, dtype: object\n",
      "Change detected at index 729, input value: timestamp        2018-10-19 13:41:00\n",
      "sensorglucose                  104.0\n",
      "target                          97.0\n",
      "Name: 729, dtype: object\n",
      "Change detected at index 827, input value: timestamp        2018-10-19 21:51:00\n",
      "sensorglucose                   65.0\n",
      "target                          74.0\n",
      "Name: 827, dtype: object\n",
      "Change detected at index 859, input value: timestamp        2018-10-20 00:31:00\n",
      "sensorglucose                  161.0\n",
      "target                         163.0\n",
      "Name: 859, dtype: object\n",
      "Change detected at index 891, input value: timestamp        2018-10-20 03:11:00\n",
      "sensorglucose                  128.0\n",
      "target                         123.0\n",
      "Name: 891, dtype: object\n",
      "Change detected at index 987, input value: timestamp        2018-10-20 11:11:00\n",
      "sensorglucose                  156.0\n",
      "target                         127.0\n",
      "Name: 987, dtype: object\n"
     ]
    }
   ],
   "source": [
    "from river import drift\n",
    "adwin = drift.ADWIN()\n",
    "\n",
    "for i, val in data[:1000].iterrows():\n",
    "    _ = adwin.update(val[2])\n",
    "    if adwin.drift_detected:\n",
    "        print(f\"Change detected at index {i}, input value: {val}\")"
   ]
  },
  {
   "cell_type": "code",
   "execution_count": 41,
   "metadata": {
    "ExecuteTime": {
     "end_time": "2023-05-22T18:29:02.871084400Z",
     "start_time": "2023-05-22T18:29:02.419243200Z"
    },
    "collapsed": false
   },
   "outputs": [
    {
     "name": "stdout",
     "output_type": "stream",
     "text": [
      "Change detected at index 311\n",
      "Change detected at index 375\n",
      "Change detected at index 528\n",
      "Change detected at index 592\n",
      "Change detected at index 721\n",
      "Change detected at index 817\n",
      "Change detected at index 851\n",
      "Change detected at index 915\n",
      "Change detected at index 979\n"
     ]
    },
    {
     "data": {
      "image/png": "[encoded data removed]",
      "text/plain": [
       "<Figure size 700x300 with 1 Axes>"
      ]
     },
     "metadata": {},
     "output_type": "display_data"
    }
   ],
   "source": [
    "from river.base import drift_detector\n",
    "from matplotlib import pyplot as plt, gridspec\n",
    "\n",
    "\n",
    "def plot_data(drifts=None):\n",
    "    fig = plt.figure(figsize=(7,3), tight_layout=True)\n",
    "    gs = gridspec.GridSpec(1, 2, width_ratios=[3, 1])\n",
    "    ax1= plt.subplot(gs[0])\n",
    "    ax1.grid()\n",
    "    plt.xticks(rotation=90)\n",
    "    ax1.plot(data[:1000]['timestamp'].to_list(), data[:1000]['target'].to_list(), label='Stream')\n",
    "    if drifts is not None:\n",
    "        for drift_detected in drifts:\n",
    "            ax1.axvline(data[:1000]['timestamp'].to_list()[drift_detected], color='red')\n",
    "    plt.show()\n",
    "\n",
    "drifts = []\n",
    "\n",
    "for i, val in data[:1000].iterrows():\n",
    "    adwin.update(val[2])   # Data is processed one sample at a time\n",
    "    if adwin.drift_detected:\n",
    "        # The drift detector indicates after each sample if there is a drift in the data\n",
    "        print(f'Change detected at index {i}')\n",
    "        drifts.append(i)\n",
    "\n",
    "plot_data(drifts)"
   ]
  },
  {
   "cell_type": "code",
   "execution_count": null,
   "metadata": {
    "collapsed": false
   },
   "outputs": [],
   "source": []
  }
 ],
 "metadata": {
  "kernelspec": {
   "display_name": "AP",
   "language": "python",
   "name": "python3"
  },
  "language_info": {
   "codemirror_mode": {
    "name": "ipython",
    "version": 3
   },
   "file_extension": ".py",
   "mimetype": "text/x-python",
   "name": "python",
   "nbconvert_exporter": "python",
   "pygments_lexer": "ipython3",
   "version": "3.10.9"
  },
  "vscode": {
   "interpreter": {
    "hash": "9dc82c02619bd9757290c1248dea3074fa360317c4decc6ca14fee76176a5ca8"
   }
  }
 },
 "nbformat": 4,
 "nbformat_minor": 0
}
